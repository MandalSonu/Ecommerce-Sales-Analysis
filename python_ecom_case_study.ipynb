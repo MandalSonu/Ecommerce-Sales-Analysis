{
 "cells": [
  {
   "cell_type": "code",
   "execution_count": 1,
   "id": "1e5a2926",
   "metadata": {},
   "outputs": [],
   "source": [
    "import pandas as pd\n",
    "\n",
    "import matplotlib.pyplot as plt\n",
    "\n",
    "import seaborn as sns\n"
   ]
  },
  {
   "cell_type": "code",
   "execution_count": 2,
   "id": "e381cb93",
   "metadata": {},
   "outputs": [],
   "source": [
    "## Import all Datasets\n",
    "\n",
    "customer_data = pd.read_csv(r\"C:\\Users\\Sonu Mandal\\OneDrive\\Desktop\\python ecom case study\\5. Python Foundation End to End Case Study_E-Commerce Analytics Project\\CUSTOMERS.csv\")\n",
    "\n",
    "Geo_data = pd.read_csv(r\"C:\\Users\\Sonu Mandal\\OneDrive\\Desktop\\python ecom case study\\5. Python Foundation End to End Case Study_E-Commerce Analytics Project\\GEO_LOCATION.csv\")\n",
    "\n",
    "order_item_data = pd.read_csv(r\"C:\\Users\\Sonu Mandal\\OneDrive\\Desktop\\python ecom case study\\5. Python Foundation End to End Case Study_E-Commerce Analytics Project\\ORDER_ITEMS.csv\")\n",
    "\n",
    "order_payment_data = pd.read_csv(r\"C:\\Users\\Sonu Mandal\\OneDrive\\Desktop\\python ecom case study\\5. Python Foundation End to End Case Study_E-Commerce Analytics Project\\ORDER_PAYMENTS.csv\")\n",
    "\n",
    "order_review_data = pd.read_csv(r\"C:\\Users\\Sonu Mandal\\OneDrive\\Desktop\\python ecom case study\\5. Python Foundation End to End Case Study_E-Commerce Analytics Project\\ORDER_REVIEW_RATINGS.csv\")\n",
    "\n",
    "order_data = pd.read_csv(r\"C:\\Users\\Sonu Mandal\\OneDrive\\Desktop\\python ecom case study\\5. Python Foundation End to End Case Study_E-Commerce Analytics Project\\ORDERS.csv\")\n",
    "\n",
    "product_data = pd.read_csv(r\"C:\\Users\\Sonu Mandal\\OneDrive\\Desktop\\python ecom case study\\5. Python Foundation End to End Case Study_E-Commerce Analytics Project\\PRODUCTS.csv\")\n",
    "\n",
    "seller_data = pd.read_csv(r\"C:\\Users\\Sonu Mandal\\OneDrive\\Desktop\\python ecom case study\\5. Python Foundation End to End Case Study_E-Commerce Analytics Project\\SELLERS.csv\")"
   ]
  },
  {
   "cell_type": "code",
   "execution_count": 3,
   "id": "f242ef0d",
   "metadata": {},
   "outputs": [
    {
     "data": {
      "text/html": [
       "<div>\n",
       "<style scoped>\n",
       "    .dataframe tbody tr th:only-of-type {\n",
       "        vertical-align: middle;\n",
       "    }\n",
       "\n",
       "    .dataframe tbody tr th {\n",
       "        vertical-align: top;\n",
       "    }\n",
       "\n",
       "    .dataframe thead th {\n",
       "        text-align: right;\n",
       "    }\n",
       "</style>\n",
       "<table border=\"1\" class=\"dataframe\">\n",
       "  <thead>\n",
       "    <tr style=\"text-align: right;\">\n",
       "      <th></th>\n",
       "      <th>customer_id</th>\n",
       "      <th>customer_unique_id</th>\n",
       "      <th>customer_zip_code_prefix</th>\n",
       "      <th>customer_city</th>\n",
       "      <th>customer_state</th>\n",
       "    </tr>\n",
       "  </thead>\n",
       "  <tbody>\n",
       "    <tr>\n",
       "      <th>0</th>\n",
       "      <td>06b8999e2fba1a1fbc88172c00ba8bc7</td>\n",
       "      <td>861eff4711a542e4b93843c6dd7febb0</td>\n",
       "      <td>14409</td>\n",
       "      <td>Adilabad</td>\n",
       "      <td>Andhra Pradesh</td>\n",
       "    </tr>\n",
       "    <tr>\n",
       "      <th>1</th>\n",
       "      <td>18955e83d337fd6b2def6b18a428ac77</td>\n",
       "      <td>290c77bc529b7ac935b93aa66c333dc3</td>\n",
       "      <td>9790</td>\n",
       "      <td>Adoni</td>\n",
       "      <td>Andhra Pradesh</td>\n",
       "    </tr>\n",
       "    <tr>\n",
       "      <th>2</th>\n",
       "      <td>4e7b3e00288586ebd08712fdd0374a03</td>\n",
       "      <td>060e732b5b29e8181a18229c7b0b2b5e</td>\n",
       "      <td>1151</td>\n",
       "      <td>Akkarampalle</td>\n",
       "      <td>Andhra Pradesh</td>\n",
       "    </tr>\n",
       "    <tr>\n",
       "      <th>3</th>\n",
       "      <td>b2b6027bc5c5109e529d4dc6358b12c3</td>\n",
       "      <td>259dac757896d24d7702b9acbbff3f3c</td>\n",
       "      <td>8775</td>\n",
       "      <td>Akkayapalle</td>\n",
       "      <td>Andhra Pradesh</td>\n",
       "    </tr>\n",
       "    <tr>\n",
       "      <th>4</th>\n",
       "      <td>4f2d8ab171c80ec8364f7c12e35b23ad</td>\n",
       "      <td>345ecd01c38d18a9036ed96c73b8d066</td>\n",
       "      <td>13056</td>\n",
       "      <td>Alwal</td>\n",
       "      <td>Andhra Pradesh</td>\n",
       "    </tr>\n",
       "    <tr>\n",
       "      <th>...</th>\n",
       "      <td>...</td>\n",
       "      <td>...</td>\n",
       "      <td>...</td>\n",
       "      <td>...</td>\n",
       "      <td>...</td>\n",
       "    </tr>\n",
       "    <tr>\n",
       "      <th>99436</th>\n",
       "      <td>17ddf5dd5d51696bb3d7c6291687be6f</td>\n",
       "      <td>1a29b476fee25c95fbafc67c5ac95cf8</td>\n",
       "      <td>3937</td>\n",
       "      <td>Akkarampalle</td>\n",
       "      <td>Andhra Pradesh</td>\n",
       "    </tr>\n",
       "    <tr>\n",
       "      <th>99437</th>\n",
       "      <td>e7b71a9017aa05c9a7fd292d714858e8</td>\n",
       "      <td>d52a67c98be1cf6a5c84435bd38d095d</td>\n",
       "      <td>6764</td>\n",
       "      <td>Nizamabad</td>\n",
       "      <td>Andhra Pradesh</td>\n",
       "    </tr>\n",
       "    <tr>\n",
       "      <th>99438</th>\n",
       "      <td>5e28dfe12db7fb50a4b2f691faecea5e</td>\n",
       "      <td>e9f50caf99f032f0bf3c55141f019d99</td>\n",
       "      <td>60115</td>\n",
       "      <td>Dowleswaram</td>\n",
       "      <td>Andhra Pradesh</td>\n",
       "    </tr>\n",
       "    <tr>\n",
       "      <th>99439</th>\n",
       "      <td>56b18e2166679b8a959d72dd06da27f9</td>\n",
       "      <td>73c2643a0a458b49f58cea58833b192e</td>\n",
       "      <td>92120</td>\n",
       "      <td>Vepagunta</td>\n",
       "      <td>Andhra Pradesh</td>\n",
       "    </tr>\n",
       "    <tr>\n",
       "      <th>99440</th>\n",
       "      <td>274fa6071e5e17fe303b9748641082c8</td>\n",
       "      <td>84732c5050c01db9b23e19ba39899398</td>\n",
       "      <td>6703</td>\n",
       "      <td>Naspur</td>\n",
       "      <td>Andhra Pradesh</td>\n",
       "    </tr>\n",
       "  </tbody>\n",
       "</table>\n",
       "<p>99441 rows × 5 columns</p>\n",
       "</div>"
      ],
      "text/plain": [
       "                            customer_id                customer_unique_id  \\\n",
       "0      06b8999e2fba1a1fbc88172c00ba8bc7  861eff4711a542e4b93843c6dd7febb0   \n",
       "1      18955e83d337fd6b2def6b18a428ac77  290c77bc529b7ac935b93aa66c333dc3   \n",
       "2      4e7b3e00288586ebd08712fdd0374a03  060e732b5b29e8181a18229c7b0b2b5e   \n",
       "3      b2b6027bc5c5109e529d4dc6358b12c3  259dac757896d24d7702b9acbbff3f3c   \n",
       "4      4f2d8ab171c80ec8364f7c12e35b23ad  345ecd01c38d18a9036ed96c73b8d066   \n",
       "...                                 ...                               ...   \n",
       "99436  17ddf5dd5d51696bb3d7c6291687be6f  1a29b476fee25c95fbafc67c5ac95cf8   \n",
       "99437  e7b71a9017aa05c9a7fd292d714858e8  d52a67c98be1cf6a5c84435bd38d095d   \n",
       "99438  5e28dfe12db7fb50a4b2f691faecea5e  e9f50caf99f032f0bf3c55141f019d99   \n",
       "99439  56b18e2166679b8a959d72dd06da27f9  73c2643a0a458b49f58cea58833b192e   \n",
       "99440  274fa6071e5e17fe303b9748641082c8  84732c5050c01db9b23e19ba39899398   \n",
       "\n",
       "       customer_zip_code_prefix customer_city  customer_state  \n",
       "0                         14409      Adilabad  Andhra Pradesh  \n",
       "1                          9790         Adoni  Andhra Pradesh  \n",
       "2                          1151  Akkarampalle  Andhra Pradesh  \n",
       "3                          8775   Akkayapalle  Andhra Pradesh  \n",
       "4                         13056         Alwal  Andhra Pradesh  \n",
       "...                         ...           ...             ...  \n",
       "99436                      3937  Akkarampalle  Andhra Pradesh  \n",
       "99437                      6764     Nizamabad  Andhra Pradesh  \n",
       "99438                     60115   Dowleswaram  Andhra Pradesh  \n",
       "99439                     92120     Vepagunta  Andhra Pradesh  \n",
       "99440                      6703        Naspur  Andhra Pradesh  \n",
       "\n",
       "[99441 rows x 5 columns]"
      ]
     },
     "execution_count": 3,
     "metadata": {},
     "output_type": "execute_result"
    }
   ],
   "source": [
    "customer_data"
   ]
  },
  {
   "cell_type": "markdown",
   "id": "441f7efd",
   "metadata": {},
   "source": [
    "# 1. Perform Detailed exploratory analysis"
   ]
  },
  {
   "cell_type": "raw",
   "id": "af1f7a1e",
   "metadata": {},
   "source": [
    "Ques.a. Define & calculate high level metrics like (Total Revenue, Total quantity, Total \n",
    "        products, Total categories, Total sellers, Total locations, Total channels, Total \n",
    "        payment methods etc…) "
   ]
  },
  {
   "cell_type": "code",
   "execution_count": 4,
   "id": "5af42ab6",
   "metadata": {},
   "outputs": [
    {
     "name": "stdout",
     "output_type": "stream",
     "text": [
      "Total_revenue:- 16008872\n",
      "\n",
      "Total_Quantity:- 70794.0\n",
      "\n",
      "Total_Product:- 32951\n",
      "\n",
      "Total_category:- 71\n",
      "\n",
      "Total_sellers:- 3095\n",
      "\n",
      "Total_location:- 3809\n",
      "\n",
      "Total_payment_method:- 5\n",
      "\n",
      "Total_customers:- 99441\n"
     ]
    }
   ],
   "source": [
    "Total_revenue = round(order_payment_data['payment_value'].sum())\n",
    "Total_Quantity = product_data['product_photos_qty'].sum()\n",
    "Total_Product = product_data['product_id'].nunique()\n",
    "Total_category = product_data['product_category_name'].nunique()\n",
    "Total_sellers=seller_data['seller_id'].count()\n",
    "Total_location = Geo_data['geolocation_city'].nunique()\n",
    "Total_payment_method = order_payment_data['payment_type'].nunique()\n",
    "Total_customers = customer_data['customer_unique_id'].count()\n",
    "print('Total_revenue:-',Total_revenue)\n",
    "print()\n",
    "print('Total_Quantity:-',Total_Quantity)\n",
    "print()\n",
    "print('Total_Product:-',Total_Product)\n",
    "print()\n",
    "print('Total_category:-',Total_category)\n",
    "print()\n",
    "print('Total_sellers:-',Total_sellers)\n",
    "print()\n",
    "print('Total_location:-',Total_location)\n",
    "print()\n",
    "print('Total_payment_method:-',Total_payment_method)\n",
    "print()\n",
    "print('Total_customers:-',Total_customers)"
   ]
  },
  {
   "cell_type": "raw",
   "id": "b61db517",
   "metadata": {},
   "source": [
    "Ques.b. Understanding how many new customers acquired every month"
   ]
  },
  {
   "cell_type": "code",
   "execution_count": 5,
   "id": "89fce5ba",
   "metadata": {},
   "outputs": [],
   "source": [
    "import datetime\n",
    "\n",
    "from datetime import datetime"
   ]
  },
  {
   "cell_type": "code",
   "execution_count": 6,
   "id": "84f372c7",
   "metadata": {},
   "outputs": [],
   "source": [
    "## Convert date to datetime\n",
    "\n",
    "order_data['order_purchase_timestamp'] = pd.to_datetime(order_data['order_purchase_timestamp'])\n",
    "\n",
    "## Assign a month column\n",
    "order_data['Month'] = order_data['order_purchase_timestamp'].dt.month"
   ]
  },
  {
   "cell_type": "code",
   "execution_count": 7,
   "id": "7f3d0d90",
   "metadata": {},
   "outputs": [
    {
     "data": {
      "text/plain": [
       "Text(0.5, 1.0, 'Month Wise Customer Count Trend')"
      ]
     },
     "execution_count": 7,
     "metadata": {},
     "output_type": "execute_result"
    },
    {
     "data": {
      "image/png": "[encoded data removed]",
      "text/plain": [
       "<Figure size 640x480 with 1 Axes>"
      ]
     },
     "metadata": {},
     "output_type": "display_data"
    }
   ],
   "source": [
    "## Visualize the customer count trend\n",
    "order_data.groupby('Month')['customer_id'].count().plot(kind='bar')\n",
    "plt.xticks(rotation=360)\n",
    "plt.ylabel('Customer_count')\n",
    "plt.title('Month Wise Customer Count Trend')"
   ]
  },
  {
   "cell_type": "raw",
   "id": "6cb8e6ee",
   "metadata": {},
   "source": [
    "Ques.c.Understand the retention of customers on month on month basis\n"
   ]
  },
  {
   "cell_type": "code",
   "execution_count": 8,
   "id": "992dae29",
   "metadata": {},
   "outputs": [
    {
     "data": {
      "text/plain": [
       "Text(0.5, 1.0, 'Month Wise Customer retention Trend')"
      ]
     },
     "execution_count": 8,
     "metadata": {},
     "output_type": "execute_result"
    },
    {
     "data": {
      "image/png": "[encoded data removed]",
      "text/plain": [
       "<Figure size 640x480 with 1 Axes>"
      ]
     },
     "metadata": {},
     "output_type": "display_data"
    }
   ],
   "source": [
    "## Visualize the customer count trend\n",
    "order_data.groupby('Month')['customer_id'].count().plot(kind='bar')\n",
    "plt.xticks(rotation=360)\n",
    "plt.ylabel('Customer_retention')\n",
    "plt.title('Month Wise Customer retention Trend') ## I am not sure because not any duplicate customer present in the data so how retention??"
   ]
  },
  {
   "cell_type": "raw",
   "id": "b7bd5d71",
   "metadata": {},
   "source": [
    "Ques.d.How the revenues from existing/new customers on month on month basis"
   ]
  },
  {
   "cell_type": "code",
   "execution_count": 9,
   "id": "878a02e3",
   "metadata": {},
   "outputs": [],
   "source": [
    "rev_data=pd.merge(order_data,order_payment_data,on='order_id',how='inner') # merge sales and revenue data"
   ]
  },
  {
   "cell_type": "code",
   "execution_count": 10,
   "id": "7265925a",
   "metadata": {},
   "outputs": [],
   "source": [
    "cutoff_date = pd.to_datetime('2018-7-17') ## choose a cutoff to identify the new customers"
   ]
  },
  {
   "cell_type": "code",
   "execution_count": 11,
   "id": "228bfe0f",
   "metadata": {},
   "outputs": [],
   "source": [
    "rev_data['customer_type'] = 'existing' ## assign the new column customer type"
   ]
  },
  {
   "cell_type": "code",
   "execution_count": 12,
   "id": "e130abfa",
   "metadata": {},
   "outputs": [],
   "source": [
    "rev_data.loc[rev_data['order_purchase_timestamp'] >= cutoff_date,'customer_type']= 'New'"
   ]
  },
  {
   "cell_type": "code",
   "execution_count": 13,
   "id": "aa96185f",
   "metadata": {},
   "outputs": [],
   "source": [
    "existing_data = rev_data[rev_data['customer_type'] == 'existing']\n",
    "new_data = rev_data[rev_data['customer_type'] == 'New'] ## divide the data into existing and new"
   ]
  },
  {
   "cell_type": "code",
   "execution_count": 14,
   "id": "4918b686",
   "metadata": {},
   "outputs": [],
   "source": [
    "kk = existing_data.groupby('Month')['payment_value'].sum().reset_index()\n",
    "ko = new_data.groupby('Month')['payment_value'].sum().reset_index()"
   ]
  },
  {
   "cell_type": "code",
   "execution_count": 15,
   "id": "b2e91bf9",
   "metadata": {},
   "outputs": [
    {
     "data": {
      "image/png": "[encoded data removed]",
      "text/plain": [
       "<Figure size 640x480 with 1 Axes>"
      ]
     },
     "metadata": {},
     "output_type": "display_data"
    }
   ],
   "source": [
    "## Plot the graph\n",
    "plt.plot(kk['Month'],kk['payment_value'],marker='o',label='Existing Customers')\n",
    "plt.plot(ko['Month'],ko['payment_value'],marker='o',label='New Customers')\n",
    "\n",
    "plt.title('Monthly Revenues for Existing and New Customers')\n",
    "plt.xlabel('Month')\n",
    "plt.ylabel('Total Revenue')\n",
    "plt.legend()\n",
    "plt.grid(True)\n",
    "\n",
    "plt.show()"
   ]
  },
  {
   "cell_type": "raw",
   "id": "99d7ac27",
   "metadata": {},
   "source": [
    "Ques.e.Understand the trends/seasonality of sales, quantity by category, location, month, \n",
    "       week, day, time, channel, payment method etc…\n"
   ]
  },
  {
   "cell_type": "code",
   "execution_count": 16,
   "id": "ce2909c9",
   "metadata": {},
   "outputs": [],
   "source": [
    "## define a function to divide the month into season\n",
    "\n",
    "def categorise_season(month):\n",
    "    if month in [3,4,5]:\n",
    "        return 'Spring'\n",
    "    elif month in [6,7,8]:\n",
    "        return 'Summer'\n",
    "    elif month in [9,10,11]:\n",
    "        return 'Autumn'\n",
    "    else:\n",
    "        'Winter'"
   ]
  },
  {
   "cell_type": "code",
   "execution_count": 17,
   "id": "ed035e18",
   "metadata": {},
   "outputs": [],
   "source": [
    "rev_data['Season'] = rev_data['Month'].apply(categorise_season)  ## apply the function and assign a column season"
   ]
  },
  {
   "cell_type": "code",
   "execution_count": 18,
   "id": "fb96300b",
   "metadata": {},
   "outputs": [],
   "source": [
    "# calculate the sale season wise\n",
    "\n",
    "season_wise_sale=rev_data.groupby('Season')['payment_value'].sum().reset_index()"
   ]
  },
  {
   "cell_type": "code",
   "execution_count": 19,
   "id": "076ce2f4",
   "metadata": {},
   "outputs": [
    {
     "data": {
      "image/png": "[encoded data removed]",
      "text/plain": [
       "<Figure size 640x480 with 1 Axes>"
      ]
     },
     "metadata": {},
     "output_type": "display_data"
    }
   ],
   "source": [
    "plt.plot(season_wise_sale['Season'], season_wise_sale['payment_value'],marker = 'o',label='Sales')\n",
    "\n",
    "plt.title('Season wise Revenues' )\n",
    "plt.xlabel('Season')\n",
    "plt.ylabel('Total Revenue')\n",
    "plt.legend()\n",
    "plt.grid(True)\n",
    "\n",
    "plt.show()"
   ]
  },
  {
   "cell_type": "code",
   "execution_count": 20,
   "id": "06a37e37",
   "metadata": {},
   "outputs": [],
   "source": [
    "## Month wise sales\n",
    "\n",
    "month_data=rev_data.groupby('Month')['payment_value'].sum().reset_index()"
   ]
  },
  {
   "cell_type": "code",
   "execution_count": 21,
   "id": "1f1f2598",
   "metadata": {},
   "outputs": [
    {
     "data": {
      "image/png": "[encoded data removed]",
      "text/plain": [
       "<Figure size 640x480 with 1 Axes>"
      ]
     },
     "metadata": {},
     "output_type": "display_data"
    }
   ],
   "source": [
    "plt.plot(month_data['Month'],month_data['payment_value'],marker='o',label='Sales')\n",
    "\n",
    "plt.title('Month Wise Sale')\n",
    "plt.xlabel('Month')\n",
    "plt.ylabel('Sales')\n",
    "plt.legend()\n",
    "plt.grid()\n",
    "\n",
    "plt.show()"
   ]
  },
  {
   "cell_type": "code",
   "execution_count": 22,
   "id": "03f07a5c",
   "metadata": {},
   "outputs": [
    {
     "name": "stderr",
     "output_type": "stream",
     "text": [
      "C:\\Users\\Sonu Mandal\\AppData\\Local\\Temp\\ipykernel_13504\\435684739.py:1: FutureWarning: Series.dt.weekofyear and Series.dt.week have been deprecated. Please use Series.dt.isocalendar().week instead.\n",
      "  rev_data['Week']=rev_data['order_purchase_timestamp'].dt.week ## Assign a week column\n"
     ]
    }
   ],
   "source": [
    "rev_data['Week']=rev_data['order_purchase_timestamp'].dt.week ## Assign a week column"
   ]
  },
  {
   "cell_type": "code",
   "execution_count": 23,
   "id": "2b6304ac",
   "metadata": {},
   "outputs": [],
   "source": [
    "## Week wise sale\n",
    "\n",
    "week_wise = rev_data.groupby('Week')['payment_value'].sum().reset_index()"
   ]
  },
  {
   "cell_type": "code",
   "execution_count": 24,
   "id": "e6f9c418",
   "metadata": {},
   "outputs": [
    {
     "data": {
      "image/png": "[encoded data removed]",
      "text/plain": [
       "<Figure size 640x480 with 1 Axes>"
      ]
     },
     "metadata": {},
     "output_type": "display_data"
    }
   ],
   "source": [
    "## plot a graph\n",
    "\n",
    "plt.plot(week_wise['Week'],week_wise['payment_value'],marker='o',label='Sales')\n",
    "\n",
    "plt.title('Week Wise Sales')\n",
    "plt.xlabel('Week')\n",
    "plt.ylabel('Sales')\n",
    "plt.legend()\n",
    "plt.grid(True)\n",
    "\n",
    "plt.show()"
   ]
  },
  {
   "cell_type": "code",
   "execution_count": 25,
   "id": "5a5aa44d",
   "metadata": {},
   "outputs": [],
   "source": [
    "## Day Wise Sales \n",
    "\n",
    "date_wise_sale = rev_data.groupby('order_purchase_timestamp')['payment_value'].sum().reset_index()"
   ]
  },
  {
   "cell_type": "code",
   "execution_count": 26,
   "id": "dd7d71c1",
   "metadata": {},
   "outputs": [
    {
     "data": {
      "image/png": "[encoded data removed]",
      "text/plain": [
       "<Figure size 640x480 with 1 Axes>"
      ]
     },
     "metadata": {},
     "output_type": "display_data"
    }
   ],
   "source": [
    "## Plot the graph\n",
    "\n",
    "sns.histplot(date_wise_sale['payment_value'])\n",
    "plt.grid(True)"
   ]
  },
  {
   "cell_type": "code",
   "execution_count": 27,
   "id": "92c2adab",
   "metadata": {},
   "outputs": [],
   "source": [
    "pat=rev_data.groupby('payment_type')['payment_value'].sum().reset_index()"
   ]
  },
  {
   "cell_type": "code",
   "execution_count": 28,
   "id": "e0006707",
   "metadata": {},
   "outputs": [
    {
     "data": {
      "image/png": "[encoded data removed]",
      "text/plain": [
       "<Figure size 640x480 with 1 Axes>"
      ]
     },
     "metadata": {},
     "output_type": "display_data"
    }
   ],
   "source": [
    "plt.plot(pat['payment_type'],pat['payment_value'],marker='o',label='Sales')\n",
    "\n",
    "plt.title('Payment Type Wise Sales')\n",
    "plt.xlabel('Payment_type')\n",
    "plt.ylabel('Sales')\n",
    "plt.grid(True)\n",
    "plt.legend()\n",
    "\n",
    "plt.show()"
   ]
  },
  {
   "cell_type": "code",
   "execution_count": 29,
   "id": "e7bf79da",
   "metadata": {},
   "outputs": [],
   "source": [
    "rev_data['Time']=rev_data['order_purchase_timestamp'].dt.time ## Assign a time column\n",
    "\n",
    "rev_data['Time']=rev_data['Time'].apply(lambda x:x.hour)  ## convert into hour"
   ]
  },
  {
   "cell_type": "code",
   "execution_count": 30,
   "id": "a43a2ec3",
   "metadata": {},
   "outputs": [],
   "source": [
    "## Time wise sale\n",
    "\n",
    "hour_wise_sale = rev_data.groupby('Time')['payment_value'].sum().reset_index()"
   ]
  },
  {
   "cell_type": "code",
   "execution_count": 31,
   "id": "668ddf02",
   "metadata": {},
   "outputs": [
    {
     "data": {
      "image/png": "[encoded data removed]",
      "text/plain": [
       "<Figure size 640x480 with 1 Axes>"
      ]
     },
     "metadata": {},
     "output_type": "display_data"
    }
   ],
   "source": [
    "plt.plot(hour_wise_sale['Time'],hour_wise_sale['payment_value'],marker='o',label='Sales')\n",
    "\n",
    "plt.title('Time wise sales')\n",
    "plt.xlabel('Hour')\n",
    "plt.ylabel('Sales')\n",
    "plt.grid(True)\n",
    "plt.legend()\n",
    "\n",
    "plt.show()\n"
   ]
  },
  {
   "cell_type": "raw",
   "id": "ffdafaa1",
   "metadata": {},
   "source": [
    "Ques.f.Popular Products by month, seller, state, category"
   ]
  },
  {
   "cell_type": "code",
   "execution_count": 32,
   "id": "0d03cfa8",
   "metadata": {},
   "outputs": [],
   "source": [
    "ord_prod=pd.merge(product_data,order_item_data,on='product_id',how='inner') ## Merge Order data and product data"
   ]
  },
  {
   "cell_type": "code",
   "execution_count": 33,
   "id": "76eed269",
   "metadata": {},
   "outputs": [],
   "source": [
    "rev_ord_prod = pd.merge(rev_data,ord_prod,on = 'order_id',how='inner') ## merge sales,order,order item,product data"
   ]
  },
  {
   "cell_type": "code",
   "execution_count": 34,
   "id": "7e3e3b2b",
   "metadata": {},
   "outputs": [],
   "source": [
    "popularity_item = rev_ord_prod.groupby(['Month','seller_id','product_category_name',\n",
    "                      'product_name_lenght'])['product_name_lenght'].count().reset_index(name='Popularity')"
   ]
  },
  {
   "cell_type": "code",
   "execution_count": 35,
   "id": "1b8a5301",
   "metadata": {},
   "outputs": [
    {
     "data": {
      "text/html": [
       "<div>\n",
       "<style scoped>\n",
       "    .dataframe tbody tr th:only-of-type {\n",
       "        vertical-align: middle;\n",
       "    }\n",
       "\n",
       "    .dataframe tbody tr th {\n",
       "        vertical-align: top;\n",
       "    }\n",
       "\n",
       "    .dataframe thead th {\n",
       "        text-align: right;\n",
       "    }\n",
       "</style>\n",
       "<table border=\"1\" class=\"dataframe\">\n",
       "  <thead>\n",
       "    <tr style=\"text-align: right;\">\n",
       "      <th></th>\n",
       "      <th>Month</th>\n",
       "      <th>seller_id</th>\n",
       "      <th>product_category_name</th>\n",
       "      <th>product_name_lenght</th>\n",
       "      <th>Popularity</th>\n",
       "    </tr>\n",
       "  </thead>\n",
       "  <tbody>\n",
       "    <tr>\n",
       "      <th>0</th>\n",
       "      <td>1</td>\n",
       "      <td>001cca7ae9ae17fb1caed9dfb1094831</td>\n",
       "      <td>Garden_Tools</td>\n",
       "      <td>33.0</td>\n",
       "      <td>3</td>\n",
       "    </tr>\n",
       "    <tr>\n",
       "      <th>1</th>\n",
       "      <td>1</td>\n",
       "      <td>001cca7ae9ae17fb1caed9dfb1094831</td>\n",
       "      <td>Garden_Tools</td>\n",
       "      <td>36.0</td>\n",
       "      <td>4</td>\n",
       "    </tr>\n",
       "    <tr>\n",
       "      <th>2</th>\n",
       "      <td>1</td>\n",
       "      <td>001cca7ae9ae17fb1caed9dfb1094831</td>\n",
       "      <td>Garden_Tools</td>\n",
       "      <td>39.0</td>\n",
       "      <td>1</td>\n",
       "    </tr>\n",
       "    <tr>\n",
       "      <th>3</th>\n",
       "      <td>1</td>\n",
       "      <td>002100f778ceb8431b7a1020ff7ab48f</td>\n",
       "      <td>Furniture_Decor</td>\n",
       "      <td>54.0</td>\n",
       "      <td>1</td>\n",
       "    </tr>\n",
       "    <tr>\n",
       "      <th>4</th>\n",
       "      <td>1</td>\n",
       "      <td>002100f778ceb8431b7a1020ff7ab48f</td>\n",
       "      <td>Furniture_Decor</td>\n",
       "      <td>58.0</td>\n",
       "      <td>1</td>\n",
       "    </tr>\n",
       "    <tr>\n",
       "      <th>...</th>\n",
       "      <td>...</td>\n",
       "      <td>...</td>\n",
       "      <td>...</td>\n",
       "      <td>...</td>\n",
       "      <td>...</td>\n",
       "    </tr>\n",
       "    <tr>\n",
       "      <th>48106</th>\n",
       "      <td>12</td>\n",
       "      <td>ffeee66ac5d5a62fe688b9d26f83f534</td>\n",
       "      <td>Home_Appliances</td>\n",
       "      <td>54.0</td>\n",
       "      <td>2</td>\n",
       "    </tr>\n",
       "    <tr>\n",
       "      <th>48107</th>\n",
       "      <td>12</td>\n",
       "      <td>ffeee66ac5d5a62fe688b9d26f83f534</td>\n",
       "      <td>Home_Appliances</td>\n",
       "      <td>59.0</td>\n",
       "      <td>2</td>\n",
       "    </tr>\n",
       "    <tr>\n",
       "      <th>48108</th>\n",
       "      <td>12</td>\n",
       "      <td>fffd5413c0700ac820c7069d66d98c89</td>\n",
       "      <td>Furniture_Decor</td>\n",
       "      <td>52.0</td>\n",
       "      <td>1</td>\n",
       "    </tr>\n",
       "    <tr>\n",
       "      <th>48109</th>\n",
       "      <td>12</td>\n",
       "      <td>fffd5413c0700ac820c7069d66d98c89</td>\n",
       "      <td>Housewares</td>\n",
       "      <td>37.0</td>\n",
       "      <td>2</td>\n",
       "    </tr>\n",
       "    <tr>\n",
       "      <th>48110</th>\n",
       "      <td>12</td>\n",
       "      <td>fffd5413c0700ac820c7069d66d98c89</td>\n",
       "      <td>Housewares</td>\n",
       "      <td>50.0</td>\n",
       "      <td>1</td>\n",
       "    </tr>\n",
       "  </tbody>\n",
       "</table>\n",
       "<p>48111 rows × 5 columns</p>\n",
       "</div>"
      ],
      "text/plain": [
       "       Month                         seller_id product_category_name  \\\n",
       "0          1  001cca7ae9ae17fb1caed9dfb1094831          Garden_Tools   \n",
       "1          1  001cca7ae9ae17fb1caed9dfb1094831          Garden_Tools   \n",
       "2          1  001cca7ae9ae17fb1caed9dfb1094831          Garden_Tools   \n",
       "3          1  002100f778ceb8431b7a1020ff7ab48f       Furniture_Decor   \n",
       "4          1  002100f778ceb8431b7a1020ff7ab48f       Furniture_Decor   \n",
       "...      ...                               ...                   ...   \n",
       "48106     12  ffeee66ac5d5a62fe688b9d26f83f534       Home_Appliances   \n",
       "48107     12  ffeee66ac5d5a62fe688b9d26f83f534       Home_Appliances   \n",
       "48108     12  fffd5413c0700ac820c7069d66d98c89       Furniture_Decor   \n",
       "48109     12  fffd5413c0700ac820c7069d66d98c89            Housewares   \n",
       "48110     12  fffd5413c0700ac820c7069d66d98c89            Housewares   \n",
       "\n",
       "       product_name_lenght  Popularity  \n",
       "0                     33.0           3  \n",
       "1                     36.0           4  \n",
       "2                     39.0           1  \n",
       "3                     54.0           1  \n",
       "4                     58.0           1  \n",
       "...                    ...         ...  \n",
       "48106                 54.0           2  \n",
       "48107                 59.0           2  \n",
       "48108                 52.0           1  \n",
       "48109                 37.0           2  \n",
       "48110                 50.0           1  \n",
       "\n",
       "[48111 rows x 5 columns]"
      ]
     },
     "execution_count": 35,
     "metadata": {},
     "output_type": "execute_result"
    }
   ],
   "source": [
    "popularity_item.iloc[popularity_item.groupby(['Month','seller_id','product_category_name',\n",
    "                      'product_name_lenght'])['Popularity'].idxmax()]  ## popular product by month,sales,category"
   ]
  },
  {
   "cell_type": "raw",
   "id": "11a593ad",
   "metadata": {},
   "source": [
    "Ques.g.Popular categories by state, month"
   ]
  },
  {
   "cell_type": "code",
   "execution_count": 36,
   "id": "f166e9c4",
   "metadata": {},
   "outputs": [],
   "source": [
    "rev_ord_cust_prod = pd.merge(rev_ord_prod,customer_data,on='customer_id',how='inner') ## merge customer data"
   ]
  },
  {
   "cell_type": "code",
   "execution_count": 37,
   "id": "e0d5b1e9",
   "metadata": {},
   "outputs": [],
   "source": [
    "popu=rev_ord_cust_prod.groupby(['Month','customer_state',\n",
    "                                'product_category_name'])['product_category_name'].count().reset_index(name='pop')"
   ]
  },
  {
   "cell_type": "code",
   "execution_count": 38,
   "id": "c2c40bdf",
   "metadata": {},
   "outputs": [
    {
     "data": {
      "text/html": [
       "<div>\n",
       "<style scoped>\n",
       "    .dataframe tbody tr th:only-of-type {\n",
       "        vertical-align: middle;\n",
       "    }\n",
       "\n",
       "    .dataframe tbody tr th {\n",
       "        vertical-align: top;\n",
       "    }\n",
       "\n",
       "    .dataframe thead th {\n",
       "        text-align: right;\n",
       "    }\n",
       "</style>\n",
       "<table border=\"1\" class=\"dataframe\">\n",
       "  <thead>\n",
       "    <tr style=\"text-align: right;\">\n",
       "      <th></th>\n",
       "      <th>Month</th>\n",
       "      <th>customer_state</th>\n",
       "      <th>product_category_name</th>\n",
       "      <th>pop</th>\n",
       "    </tr>\n",
       "  </thead>\n",
       "  <tbody>\n",
       "    <tr>\n",
       "      <th>0</th>\n",
       "      <td>1</td>\n",
       "      <td>Andhra Pradesh</td>\n",
       "      <td>Agro_Industry_And_Commerce</td>\n",
       "      <td>11</td>\n",
       "    </tr>\n",
       "    <tr>\n",
       "      <th>1</th>\n",
       "      <td>1</td>\n",
       "      <td>Andhra Pradesh</td>\n",
       "      <td>Air_Conditioning</td>\n",
       "      <td>25</td>\n",
       "    </tr>\n",
       "    <tr>\n",
       "      <th>2</th>\n",
       "      <td>1</td>\n",
       "      <td>Andhra Pradesh</td>\n",
       "      <td>Art</td>\n",
       "      <td>15</td>\n",
       "    </tr>\n",
       "    <tr>\n",
       "      <th>3</th>\n",
       "      <td>1</td>\n",
       "      <td>Andhra Pradesh</td>\n",
       "      <td>Audio</td>\n",
       "      <td>19</td>\n",
       "    </tr>\n",
       "    <tr>\n",
       "      <th>4</th>\n",
       "      <td>1</td>\n",
       "      <td>Andhra Pradesh</td>\n",
       "      <td>Auto</td>\n",
       "      <td>165</td>\n",
       "    </tr>\n",
       "    <tr>\n",
       "      <th>...</th>\n",
       "      <td>...</td>\n",
       "      <td>...</td>\n",
       "      <td>...</td>\n",
       "      <td>...</td>\n",
       "    </tr>\n",
       "    <tr>\n",
       "      <th>7056</th>\n",
       "      <td>12</td>\n",
       "      <td>West Bengal</td>\n",
       "      <td>Housewares</td>\n",
       "      <td>2</td>\n",
       "    </tr>\n",
       "    <tr>\n",
       "      <th>7057</th>\n",
       "      <td>12</td>\n",
       "      <td>West Bengal</td>\n",
       "      <td>Industry_Commerce_And_Business</td>\n",
       "      <td>1</td>\n",
       "    </tr>\n",
       "    <tr>\n",
       "      <th>7058</th>\n",
       "      <td>12</td>\n",
       "      <td>West Bengal</td>\n",
       "      <td>Luggage_Accessories</td>\n",
       "      <td>1</td>\n",
       "    </tr>\n",
       "    <tr>\n",
       "      <th>7059</th>\n",
       "      <td>12</td>\n",
       "      <td>West Bengal</td>\n",
       "      <td>Musical_Instruments</td>\n",
       "      <td>2</td>\n",
       "    </tr>\n",
       "    <tr>\n",
       "      <th>7060</th>\n",
       "      <td>12</td>\n",
       "      <td>West Bengal</td>\n",
       "      <td>Sports_Leisure</td>\n",
       "      <td>3</td>\n",
       "    </tr>\n",
       "  </tbody>\n",
       "</table>\n",
       "<p>7061 rows × 4 columns</p>\n",
       "</div>"
      ],
      "text/plain": [
       "      Month  customer_state           product_category_name  pop\n",
       "0         1  Andhra Pradesh      Agro_Industry_And_Commerce   11\n",
       "1         1  Andhra Pradesh                Air_Conditioning   25\n",
       "2         1  Andhra Pradesh                             Art   15\n",
       "3         1  Andhra Pradesh                           Audio   19\n",
       "4         1  Andhra Pradesh                            Auto  165\n",
       "...     ...             ...                             ...  ...\n",
       "7056     12     West Bengal                      Housewares    2\n",
       "7057     12     West Bengal  Industry_Commerce_And_Business    1\n",
       "7058     12     West Bengal             Luggage_Accessories    1\n",
       "7059     12     West Bengal             Musical_Instruments    2\n",
       "7060     12     West Bengal                  Sports_Leisure    3\n",
       "\n",
       "[7061 rows x 4 columns]"
      ]
     },
     "execution_count": 38,
     "metadata": {},
     "output_type": "execute_result"
    }
   ],
   "source": [
    "popu.iloc[popu.groupby(['Month','customer_state','product_category_name'])['pop'].idxmax()] # popular category by state, month"
   ]
  },
  {
   "cell_type": "raw",
   "id": "b510248c",
   "metadata": {},
   "source": [
    "Ques.h.List top 10 most expensive products sorted by price"
   ]
  },
  {
   "cell_type": "code",
   "execution_count": 39,
   "id": "5c8f69cc",
   "metadata": {},
   "outputs": [
    {
     "name": "stdout",
     "output_type": "stream",
     "text": [
      "Top 10 most expensive product:-\n"
     ]
    },
    {
     "data": {
      "text/html": [
       "<div>\n",
       "<style scoped>\n",
       "    .dataframe tbody tr th:only-of-type {\n",
       "        vertical-align: middle;\n",
       "    }\n",
       "\n",
       "    .dataframe tbody tr th {\n",
       "        vertical-align: top;\n",
       "    }\n",
       "\n",
       "    .dataframe thead th {\n",
       "        text-align: right;\n",
       "    }\n",
       "</style>\n",
       "<table border=\"1\" class=\"dataframe\">\n",
       "  <thead>\n",
       "    <tr style=\"text-align: right;\">\n",
       "      <th></th>\n",
       "      <th>product_name_lenght</th>\n",
       "      <th>price</th>\n",
       "    </tr>\n",
       "  </thead>\n",
       "  <tbody>\n",
       "    <tr>\n",
       "      <th>26156</th>\n",
       "      <td>31.0</td>\n",
       "      <td>6735.00</td>\n",
       "    </tr>\n",
       "    <tr>\n",
       "      <th>33546</th>\n",
       "      <td>50.0</td>\n",
       "      <td>6729.00</td>\n",
       "    </tr>\n",
       "    <tr>\n",
       "      <th>4109</th>\n",
       "      <td>28.0</td>\n",
       "      <td>6499.00</td>\n",
       "    </tr>\n",
       "    <tr>\n",
       "      <th>63037</th>\n",
       "      <td>41.0</td>\n",
       "      <td>4799.00</td>\n",
       "    </tr>\n",
       "    <tr>\n",
       "      <th>47729</th>\n",
       "      <td>59.0</td>\n",
       "      <td>4690.00</td>\n",
       "    </tr>\n",
       "    <tr>\n",
       "      <th>47745</th>\n",
       "      <td>55.0</td>\n",
       "      <td>4590.00</td>\n",
       "    </tr>\n",
       "    <tr>\n",
       "      <th>13714</th>\n",
       "      <td>59.0</td>\n",
       "      <td>4399.87</td>\n",
       "    </tr>\n",
       "    <tr>\n",
       "      <th>22961</th>\n",
       "      <td>59.0</td>\n",
       "      <td>4099.99</td>\n",
       "    </tr>\n",
       "    <tr>\n",
       "      <th>3161</th>\n",
       "      <td>51.0</td>\n",
       "      <td>4059.00</td>\n",
       "    </tr>\n",
       "    <tr>\n",
       "      <th>67383</th>\n",
       "      <td>53.0</td>\n",
       "      <td>3999.90</td>\n",
       "    </tr>\n",
       "  </tbody>\n",
       "</table>\n",
       "</div>"
      ],
      "text/plain": [
       "       product_name_lenght    price\n",
       "26156                 31.0  6735.00\n",
       "33546                 50.0  6729.00\n",
       "4109                  28.0  6499.00\n",
       "63037                 41.0  4799.00\n",
       "47729                 59.0  4690.00\n",
       "47745                 55.0  4590.00\n",
       "13714                 59.0  4399.87\n",
       "22961                 59.0  4099.99\n",
       "3161                  51.0  4059.00\n",
       "67383                 53.0  3999.90"
      ]
     },
     "execution_count": 39,
     "metadata": {},
     "output_type": "execute_result"
    }
   ],
   "source": [
    "print('Top 10 most expensive product:-')\n",
    "rev_ord_cust_prod[['product_name_lenght','price']].sort_values(by='price',ascending=False).nlargest(10,columns='price')"
   ]
  },
  {
   "cell_type": "markdown",
   "id": "42e8a733",
   "metadata": {},
   "source": [
    "# Performing Customers/sellers Segmentation"
   ]
  },
  {
   "cell_type": "raw",
   "id": "ad7a912c",
   "metadata": {},
   "source": [
    "Ques.a.Divide the customers into groups based on the revenue generated "
   ]
  },
  {
   "cell_type": "code",
   "execution_count": 40,
   "id": "ad3bae13",
   "metadata": {},
   "outputs": [],
   "source": [
    "rev_quantiles = rev_ord_cust_prod['payment_value'].quantile([0,0.25,0.5,0.75,1])"
   ]
  },
  {
   "cell_type": "code",
   "execution_count": 41,
   "id": "4e817fb8",
   "metadata": {},
   "outputs": [],
   "source": [
    "## make a function for segment assignment\n",
    "\n",
    "def assign_segment(revenue):\n",
    "    if revenue<=rev_quantiles[0.25]:\n",
    "        return 'low'\n",
    "    elif revenue<=rev_quantiles[0.5]:\n",
    "        return 'medium_low'\n",
    "    elif revenue<=rev_quantiles[0.75]:\n",
    "        return 'medium_high'\n",
    "    else:\n",
    "        return 'high'"
   ]
  },
  {
   "cell_type": "code",
   "execution_count": 42,
   "id": "2fc46140",
   "metadata": {},
   "outputs": [],
   "source": [
    "rev_ord_cust_prod['Segment']=rev_ord_cust_prod['payment_value'].apply(assign_segment) ## assigned a segment column"
   ]
  },
  {
   "cell_type": "code",
   "execution_count": 43,
   "id": "5e8335c6",
   "metadata": {},
   "outputs": [
    {
     "data": {
      "text/html": [
       "<div>\n",
       "<style scoped>\n",
       "    .dataframe tbody tr th:only-of-type {\n",
       "        vertical-align: middle;\n",
       "    }\n",
       "\n",
       "    .dataframe tbody tr th {\n",
       "        vertical-align: top;\n",
       "    }\n",
       "\n",
       "    .dataframe thead th {\n",
       "        text-align: right;\n",
       "    }\n",
       "</style>\n",
       "<table border=\"1\" class=\"dataframe\">\n",
       "  <thead>\n",
       "    <tr style=\"text-align: right;\">\n",
       "      <th></th>\n",
       "      <th>Segment</th>\n",
       "      <th>payment_value</th>\n",
       "    </tr>\n",
       "  </thead>\n",
       "  <tbody>\n",
       "    <tr>\n",
       "      <th>0</th>\n",
       "      <td>high</td>\n",
       "      <td>12493369.30</td>\n",
       "    </tr>\n",
       "    <tr>\n",
       "      <th>1</th>\n",
       "      <td>low</td>\n",
       "      <td>1141058.86</td>\n",
       "    </tr>\n",
       "    <tr>\n",
       "      <th>2</th>\n",
       "      <td>medium_high</td>\n",
       "      <td>4235852.68</td>\n",
       "    </tr>\n",
       "    <tr>\n",
       "      <th>3</th>\n",
       "      <td>medium_low</td>\n",
       "      <td>2437853.87</td>\n",
       "    </tr>\n",
       "  </tbody>\n",
       "</table>\n",
       "</div>"
      ],
      "text/plain": [
       "       Segment  payment_value\n",
       "0         high    12493369.30\n",
       "1          low     1141058.86\n",
       "2  medium_high     4235852.68\n",
       "3   medium_low     2437853.87"
      ]
     },
     "execution_count": 43,
     "metadata": {},
     "output_type": "execute_result"
    }
   ],
   "source": [
    "rev_ord_cust_prod.groupby('Segment')['payment_value'].sum().reset_index() ## Segment wise revenue"
   ]
  },
  {
   "cell_type": "raw",
   "id": "ec3c8c5f",
   "metadata": {},
   "source": [
    "Ques.b.Divide the sellers into groups based on the revenue generated"
   ]
  },
  {
   "cell_type": "code",
   "execution_count": 44,
   "id": "70cf8f60",
   "metadata": {},
   "outputs": [],
   "source": [
    "rev_ord_cust_prod['seller_segment'] = rev_ord_cust_prod['payment_value'].apply(assign_segment) ## seller segment"
   ]
  },
  {
   "cell_type": "code",
   "execution_count": 45,
   "id": "f41d7c3b",
   "metadata": {},
   "outputs": [
    {
     "data": {
      "text/html": [
       "<div>\n",
       "<style scoped>\n",
       "    .dataframe tbody tr th:only-of-type {\n",
       "        vertical-align: middle;\n",
       "    }\n",
       "\n",
       "    .dataframe tbody tr th {\n",
       "        vertical-align: top;\n",
       "    }\n",
       "\n",
       "    .dataframe thead th {\n",
       "        text-align: right;\n",
       "    }\n",
       "</style>\n",
       "<table border=\"1\" class=\"dataframe\">\n",
       "  <thead>\n",
       "    <tr style=\"text-align: right;\">\n",
       "      <th></th>\n",
       "      <th>seller_segment</th>\n",
       "      <th>revenue</th>\n",
       "    </tr>\n",
       "  </thead>\n",
       "  <tbody>\n",
       "    <tr>\n",
       "      <th>0</th>\n",
       "      <td>high</td>\n",
       "      <td>12493369.30</td>\n",
       "    </tr>\n",
       "    <tr>\n",
       "      <th>1</th>\n",
       "      <td>low</td>\n",
       "      <td>1141058.86</td>\n",
       "    </tr>\n",
       "    <tr>\n",
       "      <th>2</th>\n",
       "      <td>medium_high</td>\n",
       "      <td>4235852.68</td>\n",
       "    </tr>\n",
       "    <tr>\n",
       "      <th>3</th>\n",
       "      <td>medium_low</td>\n",
       "      <td>2437853.87</td>\n",
       "    </tr>\n",
       "  </tbody>\n",
       "</table>\n",
       "</div>"
      ],
      "text/plain": [
       "  seller_segment      revenue\n",
       "0           high  12493369.30\n",
       "1            low   1141058.86\n",
       "2    medium_high   4235852.68\n",
       "3     medium_low   2437853.87"
      ]
     },
     "execution_count": 45,
     "metadata": {},
     "output_type": "execute_result"
    }
   ],
   "source": [
    "rev_ord_cust_prod.groupby('seller_segment')['payment_value'].sum().reset_index(name='revenue') ## Seller segment wise revenue"
   ]
  },
  {
   "cell_type": "raw",
   "id": "bfd08a93",
   "metadata": {},
   "source": [
    " Ques.3.Cross-Selling (Which products are selling together)"
   ]
  },
  {
   "cell_type": "code",
   "execution_count": 46,
   "id": "ca5344b1",
   "metadata": {},
   "outputs": [],
   "source": [
    "dr=rev_ord_cust_prod.groupby(['customer_id','product_name_lenght'])['product_name_lenght'].count().reset_index(name='prod_cnt')"
   ]
  },
  {
   "cell_type": "code",
   "execution_count": 47,
   "id": "377a7fd4",
   "metadata": {},
   "outputs": [
    {
     "data": {
      "text/html": [
       "<div>\n",
       "<style scoped>\n",
       "    .dataframe tbody tr th:only-of-type {\n",
       "        vertical-align: middle;\n",
       "    }\n",
       "\n",
       "    .dataframe tbody tr th {\n",
       "        vertical-align: top;\n",
       "    }\n",
       "\n",
       "    .dataframe thead th {\n",
       "        text-align: right;\n",
       "    }\n",
       "</style>\n",
       "<table border=\"1\" class=\"dataframe\">\n",
       "  <thead>\n",
       "    <tr style=\"text-align: right;\">\n",
       "      <th></th>\n",
       "      <th>customer_id</th>\n",
       "      <th>product_name_lenght</th>\n",
       "      <th>prod_cnt</th>\n",
       "    </tr>\n",
       "  </thead>\n",
       "  <tbody>\n",
       "    <tr>\n",
       "      <th>12</th>\n",
       "      <td>00066ccbe787a588c52bd5ff404590e3</td>\n",
       "      <td>57.0</td>\n",
       "      <td>4</td>\n",
       "    </tr>\n",
       "    <tr>\n",
       "      <th>15</th>\n",
       "      <td>000bf8121c3412d3057d32371c5d3395</td>\n",
       "      <td>63.0</td>\n",
       "      <td>2</td>\n",
       "    </tr>\n",
       "    <tr>\n",
       "      <th>16</th>\n",
       "      <td>000e943451fc2788ca6ac98a682f2f49</td>\n",
       "      <td>54.0</td>\n",
       "      <td>4</td>\n",
       "    </tr>\n",
       "    <tr>\n",
       "      <th>22</th>\n",
       "      <td>001051abfcfdbed9f87b4266213a5df1</td>\n",
       "      <td>53.0</td>\n",
       "      <td>3</td>\n",
       "    </tr>\n",
       "    <tr>\n",
       "      <th>67</th>\n",
       "      <td>002f90a6eb386bc43bc9ba200db31a89</td>\n",
       "      <td>55.0</td>\n",
       "      <td>2</td>\n",
       "    </tr>\n",
       "    <tr>\n",
       "      <th>...</th>\n",
       "      <td>...</td>\n",
       "      <td>...</td>\n",
       "      <td>...</td>\n",
       "    </tr>\n",
       "    <tr>\n",
       "      <th>100194</th>\n",
       "      <td>fff168ca1f8a1d2e8e2108b231a68a8c</td>\n",
       "      <td>48.0</td>\n",
       "      <td>2</td>\n",
       "    </tr>\n",
       "    <tr>\n",
       "      <th>100201</th>\n",
       "      <td>fff3a5c6d542d52b05f7e4518adf996e</td>\n",
       "      <td>57.0</td>\n",
       "      <td>3</td>\n",
       "    </tr>\n",
       "    <tr>\n",
       "      <th>100213</th>\n",
       "      <td>fff93c1da78dafaaa304ff032abc6205</td>\n",
       "      <td>58.0</td>\n",
       "      <td>2</td>\n",
       "    </tr>\n",
       "    <tr>\n",
       "      <th>100217</th>\n",
       "      <td>fffecc9f79fd8c764f843e9951b11341</td>\n",
       "      <td>48.0</td>\n",
       "      <td>3</td>\n",
       "    </tr>\n",
       "    <tr>\n",
       "      <th>100220</th>\n",
       "      <td>ffffa3172527f765de70084a7e53aae8</td>\n",
       "      <td>39.0</td>\n",
       "      <td>2</td>\n",
       "    </tr>\n",
       "  </tbody>\n",
       "</table>\n",
       "<p>10360 rows × 3 columns</p>\n",
       "</div>"
      ],
      "text/plain": [
       "                             customer_id  product_name_lenght  prod_cnt\n",
       "12      00066ccbe787a588c52bd5ff404590e3                 57.0         4\n",
       "15      000bf8121c3412d3057d32371c5d3395                 63.0         2\n",
       "16      000e943451fc2788ca6ac98a682f2f49                 54.0         4\n",
       "22      001051abfcfdbed9f87b4266213a5df1                 53.0         3\n",
       "67      002f90a6eb386bc43bc9ba200db31a89                 55.0         2\n",
       "...                                  ...                  ...       ...\n",
       "100194  fff168ca1f8a1d2e8e2108b231a68a8c                 48.0         2\n",
       "100201  fff3a5c6d542d52b05f7e4518adf996e                 57.0         3\n",
       "100213  fff93c1da78dafaaa304ff032abc6205                 58.0         2\n",
       "100217  fffecc9f79fd8c764f843e9951b11341                 48.0         3\n",
       "100220  ffffa3172527f765de70084a7e53aae8                 39.0         2\n",
       "\n",
       "[10360 rows x 3 columns]"
      ]
     },
     "execution_count": 47,
     "metadata": {},
     "output_type": "execute_result"
    }
   ],
   "source": [
    "dr[dr['prod_cnt']>1]"
   ]
  },
  {
   "cell_type": "markdown",
   "id": "0512937c",
   "metadata": {},
   "source": [
    "# Payment Behaviour\n"
   ]
  },
  {
   "cell_type": "raw",
   "id": "2d9645b7",
   "metadata": {},
   "source": [
    "Ques.a.How customers are paying?"
   ]
  },
  {
   "cell_type": "code",
   "execution_count": 48,
   "id": "a5a97aa2",
   "metadata": {},
   "outputs": [
    {
     "data": {
      "text/plain": [
       "Text(0, 0.5, 'Sale')"
      ]
     },
     "execution_count": 48,
     "metadata": {},
     "output_type": "execute_result"
    },
    {
     "data": {
      "image/png": "[encoded data removed]",
      "text/plain": [
       "<Figure size 640x480 with 1 Axes>"
      ]
     },
     "metadata": {},
     "output_type": "display_data"
    }
   ],
   "source": [
    "rev_ord_cust_prod.groupby('payment_type')['payment_value'].sum().plot(kind='bar') # grouping the data by payment method\n",
    "plt.xticks(rotation=360)\n",
    "plt.title('Customer Paying method')\n",
    "plt.xlabel('Payment_type')\n",
    "plt.ylabel('Sale')"
   ]
  },
  {
   "cell_type": "raw",
   "id": "bd48683d",
   "metadata": {},
   "source": [
    " Ques.b.Which payment channels are used by most customers?"
   ]
  },
  {
   "cell_type": "code",
   "execution_count": 49,
   "id": "e8d29e60",
   "metadata": {},
   "outputs": [],
   "source": [
    "## Ans. Credit card method is most used by customers"
   ]
  },
  {
   "cell_type": "markdown",
   "id": "160a88bd",
   "metadata": {},
   "source": [
    "# Customer satisfaction towards category & product"
   ]
  },
  {
   "cell_type": "raw",
   "id": "87851365",
   "metadata": {},
   "source": [
    "Ques.a.Which categories (top 10) are maximum rated & minimum rated?"
   ]
  },
  {
   "cell_type": "code",
   "execution_count": 50,
   "id": "076c9bc7",
   "metadata": {},
   "outputs": [],
   "source": [
    "rev_ord_cust_prod_ren=pd.merge(rev_ord_cust_prod,order_review_data,on='order_id',how='inner') ## merge customer review table"
   ]
  },
  {
   "cell_type": "code",
   "execution_count": 51,
   "id": "04626fa3",
   "metadata": {},
   "outputs": [],
   "source": [
    "rev_scr=rev_ord_cust_prod_ren.groupby('product_category_name')['review_score'].sum().reset_index() ## category wise review score"
   ]
  },
  {
   "cell_type": "code",
   "execution_count": 52,
   "id": "d468959a",
   "metadata": {},
   "outputs": [
    {
     "data": {
      "text/html": [
       "<div>\n",
       "<style scoped>\n",
       "    .dataframe tbody tr th:only-of-type {\n",
       "        vertical-align: middle;\n",
       "    }\n",
       "\n",
       "    .dataframe tbody tr th {\n",
       "        vertical-align: top;\n",
       "    }\n",
       "\n",
       "    .dataframe thead th {\n",
       "        text-align: right;\n",
       "    }\n",
       "</style>\n",
       "<table border=\"1\" class=\"dataframe\">\n",
       "  <thead>\n",
       "    <tr style=\"text-align: right;\">\n",
       "      <th></th>\n",
       "      <th>product_category_name</th>\n",
       "      <th>review_score</th>\n",
       "    </tr>\n",
       "  </thead>\n",
       "  <tbody>\n",
       "    <tr>\n",
       "      <th>7</th>\n",
       "      <td>Bed_Bath_Table</td>\n",
       "      <td>46366</td>\n",
       "    </tr>\n",
       "    <tr>\n",
       "      <th>43</th>\n",
       "      <td>Health_Beauty</td>\n",
       "      <td>41315</td>\n",
       "    </tr>\n",
       "    <tr>\n",
       "      <th>65</th>\n",
       "      <td>Sports_Leisure</td>\n",
       "      <td>36856</td>\n",
       "    </tr>\n",
       "    <tr>\n",
       "      <th>39</th>\n",
       "      <td>Furniture_Decor</td>\n",
       "      <td>34407</td>\n",
       "    </tr>\n",
       "    <tr>\n",
       "      <th>15</th>\n",
       "      <td>Computers_Accessories</td>\n",
       "      <td>32002</td>\n",
       "    </tr>\n",
       "    <tr>\n",
       "      <th>49</th>\n",
       "      <td>Housewares</td>\n",
       "      <td>29854</td>\n",
       "    </tr>\n",
       "    <tr>\n",
       "      <th>70</th>\n",
       "      <td>Watches_Gifts</td>\n",
       "      <td>24856</td>\n",
       "    </tr>\n",
       "    <tr>\n",
       "      <th>68</th>\n",
       "      <td>Telephony</td>\n",
       "      <td>18612</td>\n",
       "    </tr>\n",
       "    <tr>\n",
       "      <th>42</th>\n",
       "      <td>Garden_Tools</td>\n",
       "      <td>18412</td>\n",
       "    </tr>\n",
       "    <tr>\n",
       "      <th>5</th>\n",
       "      <td>Auto</td>\n",
       "      <td>17770</td>\n",
       "    </tr>\n",
       "  </tbody>\n",
       "</table>\n",
       "</div>"
      ],
      "text/plain": [
       "    product_category_name  review_score\n",
       "7          Bed_Bath_Table         46366\n",
       "43          Health_Beauty         41315\n",
       "65         Sports_Leisure         36856\n",
       "39        Furniture_Decor         34407\n",
       "15  Computers_Accessories         32002\n",
       "49             Housewares         29854\n",
       "70          Watches_Gifts         24856\n",
       "68              Telephony         18612\n",
       "42           Garden_Tools         18412\n",
       "5                    Auto         17770"
      ]
     },
     "execution_count": 52,
     "metadata": {},
     "output_type": "execute_result"
    }
   ],
   "source": [
    "## top 10 maximum rated category\n",
    "\n",
    "rev_scr.nlargest(10,columns='review_score')"
   ]
  },
  {
   "cell_type": "code",
   "execution_count": 53,
   "id": "605d35f5",
   "metadata": {},
   "outputs": [
    {
     "data": {
      "text/html": [
       "<div>\n",
       "<style scoped>\n",
       "    .dataframe tbody tr th:only-of-type {\n",
       "        vertical-align: middle;\n",
       "    }\n",
       "\n",
       "    .dataframe tbody tr th {\n",
       "        vertical-align: top;\n",
       "    }\n",
       "\n",
       "    .dataframe thead th {\n",
       "        text-align: right;\n",
       "    }\n",
       "</style>\n",
       "<table border=\"1\" class=\"dataframe\">\n",
       "  <thead>\n",
       "    <tr style=\"text-align: right;\">\n",
       "      <th></th>\n",
       "      <th>product_category_name</th>\n",
       "      <th>review_score</th>\n",
       "    </tr>\n",
       "  </thead>\n",
       "  <tbody>\n",
       "    <tr>\n",
       "      <th>61</th>\n",
       "      <td>Security_And_Services</td>\n",
       "      <td>5</td>\n",
       "    </tr>\n",
       "    <tr>\n",
       "      <th>29</th>\n",
       "      <td>Fashion_Childrens_Clothes</td>\n",
       "      <td>36</td>\n",
       "    </tr>\n",
       "    <tr>\n",
       "      <th>52</th>\n",
       "      <td>La_Cuisine</td>\n",
       "      <td>63</td>\n",
       "    </tr>\n",
       "    <tr>\n",
       "      <th>11</th>\n",
       "      <td>Cds_Dvds_Musicals</td>\n",
       "      <td>65</td>\n",
       "    </tr>\n",
       "    <tr>\n",
       "      <th>3</th>\n",
       "      <td>Arts_And_Craftmanship</td>\n",
       "      <td>99</td>\n",
       "    </tr>\n",
       "    <tr>\n",
       "      <th>46</th>\n",
       "      <td>Home_Comfort_2</td>\n",
       "      <td>105</td>\n",
       "    </tr>\n",
       "    <tr>\n",
       "      <th>23</th>\n",
       "      <td>Diapers_And_Hygiene</td>\n",
       "      <td>127</td>\n",
       "    </tr>\n",
       "    <tr>\n",
       "      <th>32</th>\n",
       "      <td>Fashion_Sport</td>\n",
       "      <td>132</td>\n",
       "    </tr>\n",
       "    <tr>\n",
       "      <th>35</th>\n",
       "      <td>Flowers</td>\n",
       "      <td>139</td>\n",
       "    </tr>\n",
       "    <tr>\n",
       "      <th>41</th>\n",
       "      <td>Furniture_Mattress_And_Upholstery</td>\n",
       "      <td>156</td>\n",
       "    </tr>\n",
       "  </tbody>\n",
       "</table>\n",
       "</div>"
      ],
      "text/plain": [
       "                product_category_name  review_score\n",
       "61              Security_And_Services             5\n",
       "29          Fashion_Childrens_Clothes            36\n",
       "52                         La_Cuisine            63\n",
       "11                  Cds_Dvds_Musicals            65\n",
       "3               Arts_And_Craftmanship            99\n",
       "46                     Home_Comfort_2           105\n",
       "23                Diapers_And_Hygiene           127\n",
       "32                      Fashion_Sport           132\n",
       "35                            Flowers           139\n",
       "41  Furniture_Mattress_And_Upholstery           156"
      ]
     },
     "execution_count": 53,
     "metadata": {},
     "output_type": "execute_result"
    }
   ],
   "source": [
    "## top 10 minimum rated category\n",
    "\n",
    "rev_scr.sort_values(by='review_score',ascending=True)[:10]"
   ]
  },
  {
   "cell_type": "raw",
   "id": "7052ece5",
   "metadata": {},
   "source": [
    "Ques.a.Which products (top10) are maximum rated & minimum rated?"
   ]
  },
  {
   "cell_type": "code",
   "execution_count": 54,
   "id": "96eb0440",
   "metadata": {},
   "outputs": [
    {
     "name": "stdout",
     "output_type": "stream",
     "text": [
      "<class 'pandas.core.frame.DataFrame'>\n",
      "Int64Index: 118315 entries, 0 to 118314\n",
      "Data columns (total 41 columns):\n",
      " #   Column                         Non-Null Count   Dtype         \n",
      "---  ------                         --------------   -----         \n",
      " 0   order_id                       118315 non-null  object        \n",
      " 1   customer_id                    118315 non-null  object        \n",
      " 2   order_status                   118315 non-null  object        \n",
      " 3   order_purchase_timestamp       118315 non-null  datetime64[ns]\n",
      " 4   order_approved_at              118300 non-null  object        \n",
      " 5   order_delivered_carrier_date   117061 non-null  object        \n",
      " 6   order_delivered_customer_date  115727 non-null  object        \n",
      " 7   order_estimated_delivery_date  118315 non-null  object        \n",
      " 8   Month                          118315 non-null  int64         \n",
      " 9   payment_sequential             118315 non-null  int64         \n",
      " 10  payment_type                   118315 non-null  object        \n",
      " 11  payment_installments           118315 non-null  int64         \n",
      " 12  payment_value                  118315 non-null  float64       \n",
      " 13  customer_type                  118315 non-null  object        \n",
      " 14  Season                         91995 non-null   object        \n",
      " 15  Week                           118315 non-null  int64         \n",
      " 16  Time                           118315 non-null  int64         \n",
      " 17  product_id                     118315 non-null  object        \n",
      " 18  product_category_name          116581 non-null  object        \n",
      " 19  product_name_lenght            116606 non-null  float64       \n",
      " 20  product_description_lenght     116606 non-null  float64       \n",
      " 21  product_photos_qty             116606 non-null  float64       \n",
      " 22  product_weight_g               118295 non-null  float64       \n",
      " 23  product_length_cm              118295 non-null  float64       \n",
      " 24  product_height_cm              118295 non-null  float64       \n",
      " 25  product_width_cm               118295 non-null  float64       \n",
      " 26  order_item_id                  118315 non-null  int64         \n",
      " 27  seller_id                      118315 non-null  object        \n",
      " 28  shipping_limit_date            118315 non-null  object        \n",
      " 29  price                          118315 non-null  float64       \n",
      " 30  freight_value                  118315 non-null  float64       \n",
      " 31  customer_unique_id             118315 non-null  object        \n",
      " 32  customer_zip_code_prefix       118315 non-null  int64         \n",
      " 33  customer_city                  118315 non-null  object        \n",
      " 34  customer_state                 118315 non-null  object        \n",
      " 35  Segment                        118315 non-null  object        \n",
      " 36  seller_segment                 118315 non-null  object        \n",
      " 37  review_id                      118315 non-null  object        \n",
      " 38  review_score                   118315 non-null  int64         \n",
      " 39  review_creation_date           118315 non-null  object        \n",
      " 40  review_answer_timestamp        118315 non-null  object        \n",
      "dtypes: datetime64[ns](1), float64(10), int64(8), object(22)\n",
      "memory usage: 37.9+ MB\n"
     ]
    }
   ],
   "source": [
    "rev_ord_cust_prod_ren.info()"
   ]
  },
  {
   "cell_type": "code",
   "execution_count": 55,
   "id": "2d0f9ac0",
   "metadata": {},
   "outputs": [],
   "source": [
    "pr_scr=rev_ord_cust_prod_ren.groupby('product_name_lenght')['review_score'].sum().reset_index() ## product wise score"
   ]
  },
  {
   "cell_type": "code",
   "execution_count": 56,
   "id": "e945a089",
   "metadata": {},
   "outputs": [
    {
     "data": {
      "text/html": [
       "<div>\n",
       "<style scoped>\n",
       "    .dataframe tbody tr th:only-of-type {\n",
       "        vertical-align: middle;\n",
       "    }\n",
       "\n",
       "    .dataframe tbody tr th {\n",
       "        vertical-align: top;\n",
       "    }\n",
       "\n",
       "    .dataframe thead th {\n",
       "        text-align: right;\n",
       "    }\n",
       "</style>\n",
       "<table border=\"1\" class=\"dataframe\">\n",
       "  <thead>\n",
       "    <tr style=\"text-align: right;\">\n",
       "      <th></th>\n",
       "      <th>product_name_lenght</th>\n",
       "      <th>review_score</th>\n",
       "    </tr>\n",
       "  </thead>\n",
       "  <tbody>\n",
       "    <tr>\n",
       "      <th>54</th>\n",
       "      <td>59.0</td>\n",
       "      <td>34962</td>\n",
       "    </tr>\n",
       "    <tr>\n",
       "      <th>55</th>\n",
       "      <td>60.0</td>\n",
       "      <td>32641</td>\n",
       "    </tr>\n",
       "    <tr>\n",
       "      <th>51</th>\n",
       "      <td>56.0</td>\n",
       "      <td>27646</td>\n",
       "    </tr>\n",
       "    <tr>\n",
       "      <th>53</th>\n",
       "      <td>58.0</td>\n",
       "      <td>26661</td>\n",
       "    </tr>\n",
       "    <tr>\n",
       "      <th>52</th>\n",
       "      <td>57.0</td>\n",
       "      <td>25764</td>\n",
       "    </tr>\n",
       "    <tr>\n",
       "      <th>50</th>\n",
       "      <td>55.0</td>\n",
       "      <td>23169</td>\n",
       "    </tr>\n",
       "    <tr>\n",
       "      <th>49</th>\n",
       "      <td>54.0</td>\n",
       "      <td>21983</td>\n",
       "    </tr>\n",
       "    <tr>\n",
       "      <th>48</th>\n",
       "      <td>53.0</td>\n",
       "      <td>17565</td>\n",
       "    </tr>\n",
       "    <tr>\n",
       "      <th>47</th>\n",
       "      <td>52.0</td>\n",
       "      <td>17439</td>\n",
       "    </tr>\n",
       "    <tr>\n",
       "      <th>44</th>\n",
       "      <td>49.0</td>\n",
       "      <td>14951</td>\n",
       "    </tr>\n",
       "  </tbody>\n",
       "</table>\n",
       "</div>"
      ],
      "text/plain": [
       "    product_name_lenght  review_score\n",
       "54                 59.0         34962\n",
       "55                 60.0         32641\n",
       "51                 56.0         27646\n",
       "53                 58.0         26661\n",
       "52                 57.0         25764\n",
       "50                 55.0         23169\n",
       "49                 54.0         21983\n",
       "48                 53.0         17565\n",
       "47                 52.0         17439\n",
       "44                 49.0         14951"
      ]
     },
     "execution_count": 56,
     "metadata": {},
     "output_type": "execute_result"
    }
   ],
   "source": [
    "## top 10 product with maximum rating\n",
    "\n",
    "pr_scr.nlargest(10,'review_score')"
   ]
  },
  {
   "cell_type": "code",
   "execution_count": 57,
   "id": "2d289071",
   "metadata": {},
   "outputs": [
    {
     "data": {
      "text/html": [
       "<div>\n",
       "<style scoped>\n",
       "    .dataframe tbody tr th:only-of-type {\n",
       "        vertical-align: middle;\n",
       "    }\n",
       "\n",
       "    .dataframe tbody tr th {\n",
       "        vertical-align: top;\n",
       "    }\n",
       "\n",
       "    .dataframe thead th {\n",
       "        text-align: right;\n",
       "    }\n",
       "</style>\n",
       "<table border=\"1\" class=\"dataframe\">\n",
       "  <thead>\n",
       "    <tr style=\"text-align: right;\">\n",
       "      <th></th>\n",
       "      <th>product_name_lenght</th>\n",
       "      <th>review_score</th>\n",
       "    </tr>\n",
       "  </thead>\n",
       "  <tbody>\n",
       "    <tr>\n",
       "      <th>63</th>\n",
       "      <td>69.0</td>\n",
       "      <td>2</td>\n",
       "    </tr>\n",
       "    <tr>\n",
       "      <th>65</th>\n",
       "      <td>76.0</td>\n",
       "      <td>5</td>\n",
       "    </tr>\n",
       "    <tr>\n",
       "      <th>62</th>\n",
       "      <td>68.0</td>\n",
       "      <td>5</td>\n",
       "    </tr>\n",
       "    <tr>\n",
       "      <th>60</th>\n",
       "      <td>66.0</td>\n",
       "      <td>5</td>\n",
       "    </tr>\n",
       "    <tr>\n",
       "      <th>2</th>\n",
       "      <td>7.0</td>\n",
       "      <td>6</td>\n",
       "    </tr>\n",
       "    <tr>\n",
       "      <th>1</th>\n",
       "      <td>6.0</td>\n",
       "      <td>14</td>\n",
       "    </tr>\n",
       "    <tr>\n",
       "      <th>61</th>\n",
       "      <td>67.0</td>\n",
       "      <td>14</td>\n",
       "    </tr>\n",
       "    <tr>\n",
       "      <th>3</th>\n",
       "      <td>8.0</td>\n",
       "      <td>17</td>\n",
       "    </tr>\n",
       "    <tr>\n",
       "      <th>64</th>\n",
       "      <td>72.0</td>\n",
       "      <td>29</td>\n",
       "    </tr>\n",
       "    <tr>\n",
       "      <th>5</th>\n",
       "      <td>10.0</td>\n",
       "      <td>33</td>\n",
       "    </tr>\n",
       "  </tbody>\n",
       "</table>\n",
       "</div>"
      ],
      "text/plain": [
       "    product_name_lenght  review_score\n",
       "63                 69.0             2\n",
       "65                 76.0             5\n",
       "62                 68.0             5\n",
       "60                 66.0             5\n",
       "2                   7.0             6\n",
       "1                   6.0            14\n",
       "61                 67.0            14\n",
       "3                   8.0            17\n",
       "64                 72.0            29\n",
       "5                  10.0            33"
      ]
     },
     "execution_count": 57,
     "metadata": {},
     "output_type": "execute_result"
    }
   ],
   "source": [
    "## top 10 product with minimum rating \n",
    "\n",
    "pr_scr.sort_values(by='review_score',ascending=True)[:10]"
   ]
  },
  {
   "cell_type": "raw",
   "id": "2c116e8b",
   "metadata": {},
   "source": [
    "Ques.c.Average rating by location, seller, product, category, month etc"
   ]
  },
  {
   "cell_type": "code",
   "execution_count": 58,
   "id": "5776663b",
   "metadata": {},
   "outputs": [],
   "source": [
    "avg=rev_ord_cust_prod_ren.groupby(['customer_city','seller_id','product_name_lenght','product_category_name',\n",
    "                               'Month'])['review_score'].mean().reset_index()"
   ]
  },
  {
   "cell_type": "code",
   "execution_count": 59,
   "id": "f2e20049",
   "metadata": {},
   "outputs": [
    {
     "data": {
      "text/html": [
       "<div>\n",
       "<style scoped>\n",
       "    .dataframe tbody tr th:only-of-type {\n",
       "        vertical-align: middle;\n",
       "    }\n",
       "\n",
       "    .dataframe tbody tr th {\n",
       "        vertical-align: top;\n",
       "    }\n",
       "\n",
       "    .dataframe thead th {\n",
       "        text-align: right;\n",
       "    }\n",
       "</style>\n",
       "<table border=\"1\" class=\"dataframe\">\n",
       "  <thead>\n",
       "    <tr style=\"text-align: right;\">\n",
       "      <th></th>\n",
       "      <th>customer_city</th>\n",
       "      <th>seller_id</th>\n",
       "      <th>product_name_lenght</th>\n",
       "      <th>product_category_name</th>\n",
       "      <th>Month</th>\n",
       "      <th>review_score</th>\n",
       "    </tr>\n",
       "  </thead>\n",
       "  <tbody>\n",
       "    <tr>\n",
       "      <th>0</th>\n",
       "      <td>Aadityana</td>\n",
       "      <td>2528513dd95219a6013d4d05176e391a</td>\n",
       "      <td>57.0</td>\n",
       "      <td>Home_Confort</td>\n",
       "      <td>6</td>\n",
       "      <td>5.0</td>\n",
       "    </tr>\n",
       "    <tr>\n",
       "      <th>1</th>\n",
       "      <td>Aadityana</td>\n",
       "      <td>3b872fd4747f01cc56206f2934198618</td>\n",
       "      <td>56.0</td>\n",
       "      <td>Bed_Bath_Table</td>\n",
       "      <td>6</td>\n",
       "      <td>5.0</td>\n",
       "    </tr>\n",
       "    <tr>\n",
       "      <th>3</th>\n",
       "      <td>Aadityana</td>\n",
       "      <td>4a3ca9315b744ce9f8e9374361493884</td>\n",
       "      <td>51.0</td>\n",
       "      <td>Bed_Bath_Table</td>\n",
       "      <td>3</td>\n",
       "      <td>5.0</td>\n",
       "    </tr>\n",
       "    <tr>\n",
       "      <th>5</th>\n",
       "      <td>Aadityana</td>\n",
       "      <td>6ec1a01e866584bb679eb9b098345919</td>\n",
       "      <td>53.0</td>\n",
       "      <td>Health_Beauty</td>\n",
       "      <td>7</td>\n",
       "      <td>5.0</td>\n",
       "    </tr>\n",
       "    <tr>\n",
       "      <th>6</th>\n",
       "      <td>Aadityana</td>\n",
       "      <td>7a67c85e85bb2ce8582c35f2203ad736</td>\n",
       "      <td>26.0</td>\n",
       "      <td>Baby</td>\n",
       "      <td>5</td>\n",
       "      <td>5.0</td>\n",
       "    </tr>\n",
       "    <tr>\n",
       "      <th>8</th>\n",
       "      <td>Aadityana</td>\n",
       "      <td>8648b1e89e9b349e32d3741b30ec737e</td>\n",
       "      <td>59.0</td>\n",
       "      <td>Construction_Tools_Construction</td>\n",
       "      <td>7</td>\n",
       "      <td>5.0</td>\n",
       "    </tr>\n",
       "    <tr>\n",
       "      <th>9</th>\n",
       "      <td>Aadityana</td>\n",
       "      <td>8a432f4e5b471f8da497d7dc517666e2</td>\n",
       "      <td>59.0</td>\n",
       "      <td>Bed_Bath_Table</td>\n",
       "      <td>7</td>\n",
       "      <td>5.0</td>\n",
       "    </tr>\n",
       "    <tr>\n",
       "      <th>13</th>\n",
       "      <td>Aadityana</td>\n",
       "      <td>a6fe7de3d16f6149ffe280349a8535a0</td>\n",
       "      <td>52.0</td>\n",
       "      <td>Fashion_Underwear_Beach</td>\n",
       "      <td>5</td>\n",
       "      <td>5.0</td>\n",
       "    </tr>\n",
       "    <tr>\n",
       "      <th>16</th>\n",
       "      <td>Aadityana</td>\n",
       "      <td>f7720c4fa8e3aba4546301ab80ea1f1b</td>\n",
       "      <td>54.0</td>\n",
       "      <td>Garden_Tools</td>\n",
       "      <td>7</td>\n",
       "      <td>5.0</td>\n",
       "    </tr>\n",
       "    <tr>\n",
       "      <th>19</th>\n",
       "      <td>Aantaliya</td>\n",
       "      <td>080102cd0a76b09e0dcf55fcacc60e05</td>\n",
       "      <td>49.0</td>\n",
       "      <td>Computers_Accessories</td>\n",
       "      <td>12</td>\n",
       "      <td>5.0</td>\n",
       "    </tr>\n",
       "  </tbody>\n",
       "</table>\n",
       "</div>"
      ],
      "text/plain": [
       "   customer_city                         seller_id  product_name_lenght  \\\n",
       "0      Aadityana  2528513dd95219a6013d4d05176e391a                 57.0   \n",
       "1      Aadityana  3b872fd4747f01cc56206f2934198618                 56.0   \n",
       "3      Aadityana  4a3ca9315b744ce9f8e9374361493884                 51.0   \n",
       "5      Aadityana  6ec1a01e866584bb679eb9b098345919                 53.0   \n",
       "6      Aadityana  7a67c85e85bb2ce8582c35f2203ad736                 26.0   \n",
       "8      Aadityana  8648b1e89e9b349e32d3741b30ec737e                 59.0   \n",
       "9      Aadityana  8a432f4e5b471f8da497d7dc517666e2                 59.0   \n",
       "13     Aadityana  a6fe7de3d16f6149ffe280349a8535a0                 52.0   \n",
       "16     Aadityana  f7720c4fa8e3aba4546301ab80ea1f1b                 54.0   \n",
       "19     Aantaliya  080102cd0a76b09e0dcf55fcacc60e05                 49.0   \n",
       "\n",
       "              product_category_name  Month  review_score  \n",
       "0                      Home_Confort      6           5.0  \n",
       "1                    Bed_Bath_Table      6           5.0  \n",
       "3                    Bed_Bath_Table      3           5.0  \n",
       "5                     Health_Beauty      7           5.0  \n",
       "6                              Baby      5           5.0  \n",
       "8   Construction_Tools_Construction      7           5.0  \n",
       "9                    Bed_Bath_Table      7           5.0  \n",
       "13          Fashion_Underwear_Beach      5           5.0  \n",
       "16                     Garden_Tools      7           5.0  \n",
       "19            Computers_Accessories     12           5.0  "
      ]
     },
     "execution_count": 59,
     "metadata": {},
     "output_type": "execute_result"
    }
   ],
   "source": [
    "## top 10 avg rating\n",
    "\n",
    "avg.nlargest(10,'review_score')"
   ]
  },
  {
   "cell_type": "code",
   "execution_count": null,
   "id": "50b31efd",
   "metadata": {},
   "outputs": [],
   "source": []
  },
  {
   "cell_type": "code",
   "execution_count": null,
   "id": "a33983b3",
   "metadata": {},
   "outputs": [],
   "source": []
  }
 ],
 "metadata": {
  "kernelspec": {
   "display_name": "Python 3 (ipykernel)",
   "language": "python",
   "name": "python3"
  },
  "language_info": {
   "codemirror_mode": {
    "name": "ipython",
    "version": 3
   },
   "file_extension": ".py",
   "mimetype": "text/x-python",
   "name": "python",
   "nbconvert_exporter": "python",
   "pygments_lexer": "ipython3",
   "version": "3.11.3"
  }
 },
 "nbformat": 4,
 "nbformat_minor": 5
}
